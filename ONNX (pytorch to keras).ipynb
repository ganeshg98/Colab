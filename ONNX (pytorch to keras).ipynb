{
 "cells": [
  {
   "cell_type": "code",
   "execution_count": 1,
   "metadata": {},
   "outputs": [
    {
     "name": "stdout",
     "output_type": "stream",
     "text": [
      "Requirement already satisfied: onnx in c:\\users\\ganes\\anaconda3\\lib\\site-packages (1.16.0)\n",
      "Requirement already satisfied: numpy>=1.20 in c:\\users\\ganes\\anaconda3\\lib\\site-packages (from onnx) (1.24.4)\n",
      "Requirement already satisfied: protobuf>=3.20.2 in c:\\users\\ganes\\anaconda3\\lib\\site-packages (from onnx) (5.26.1)\n",
      "Collecting onnx2keras\n",
      "  Using cached onnx2keras-0.0.24.tar.gz (20 kB)\n",
      "Collecting tensorflow\n",
      "  Using cached tensorflow-2.13.1-cp38-cp38-win_amd64.whl (1.9 kB)\n",
      "Requirement already satisfied: numpy in c:\\users\\ganes\\anaconda3\\lib\\site-packages (from onnx2keras) (1.24.4)\n",
      "Requirement already satisfied: onnx in c:\\users\\ganes\\anaconda3\\lib\\site-packages (from onnx2keras) (1.16.0)\n"
     ]
    },
    {
     "name": "stderr",
     "output_type": "stream",
     "text": [
      "ERROR: Could not find a version that satisfies the requirement tensorflow-intel==2.13.1; platform_system == \"Windows\" (from tensorflow->onnx2keras) (from versions: 0.0.1, 2.10.0.dev20220728, 2.10.0rc0, 2.10.0rc1, 2.10.0rc2, 2.10.0rc3, 2.10.0, 2.10.1, 2.11.0rc0, 2.11.0rc1, 2.11.0rc2, 2.11.0, 2.11.1, 2.12.0rc0, 2.12.0rc1, 2.12.0, 2.12.1, 2.13.0rc0, 2.13.0rc1, 2.13.0rc2, 2.13.0)\n",
      "ERROR: No matching distribution found for tensorflow-intel==2.13.1; platform_system == \"Windows\" (from tensorflow->onnx2keras)\n"
     ]
    },
    {
     "name": "stdout",
     "output_type": "stream",
     "text": [
      "Requirement already satisfied: onnxruntime in c:\\users\\ganes\\anaconda3\\lib\\site-packages (1.17.1)\n",
      "Requirement already satisfied: protobuf in c:\\users\\ganes\\anaconda3\\lib\\site-packages (from onnxruntime) (5.26.1)\n",
      "Requirement already satisfied: flatbuffers in c:\\users\\ganes\\anaconda3\\lib\\site-packages (from onnxruntime) (24.3.25)\n",
      "Requirement already satisfied: packaging in c:\\users\\ganes\\anaconda3\\lib\\site-packages (from onnxruntime) (20.4)\n",
      "Requirement already satisfied: sympy in c:\\users\\ganes\\anaconda3\\lib\\site-packages (from onnxruntime) (1.6.2)\n",
      "Requirement already satisfied: coloredlogs in c:\\users\\ganes\\anaconda3\\lib\\site-packages (from onnxruntime) (15.0.1)\n",
      "Requirement already satisfied: numpy>=1.21.6 in c:\\users\\ganes\\anaconda3\\lib\\site-packages (from onnxruntime) (1.24.4)\n",
      "Requirement already satisfied: pyparsing>=2.0.2 in c:\\users\\ganes\\anaconda3\\lib\\site-packages (from packaging->onnxruntime) (2.4.7)\n",
      "Requirement already satisfied: six in c:\\users\\ganes\\anaconda3\\lib\\site-packages (from packaging->onnxruntime) (1.15.0)\n",
      "Requirement already satisfied: mpmath>=0.19 in c:\\users\\ganes\\anaconda3\\lib\\site-packages (from sympy->onnxruntime) (1.1.0)\n",
      "Requirement already satisfied: humanfriendly>=9.1 in c:\\users\\ganes\\anaconda3\\lib\\site-packages (from coloredlogs->onnxruntime) (10.0)\n",
      "Requirement already satisfied: pyreadline3; sys_platform == \"win32\" and python_version >= \"3.8\" in c:\\users\\ganes\\anaconda3\\lib\\site-packages (from humanfriendly>=9.1->coloredlogs->onnxruntime) (3.4.1)\n"
     ]
    }
   ],
   "source": [
    "!pip install onnx\n",
    "!pip install onnx2keras\n",
    "!pip install onnxruntime"
   ]
  },
  {
   "cell_type": "code",
   "execution_count": 2,
   "metadata": {},
   "outputs": [
    {
     "name": "stdout",
     "output_type": "stream",
     "text": [
      "Requirement already satisfied: torchvision in c:\\users\\ganes\\anaconda3\\lib\\site-packages (0.17.2)\n",
      "Requirement already satisfied: torch==2.2.2 in c:\\users\\ganes\\anaconda3\\lib\\site-packages (from torchvision) (2.2.2)\n",
      "Requirement already satisfied: pillow!=8.3.*,>=5.3.0 in c:\\users\\ganes\\anaconda3\\lib\\site-packages (from torchvision) (8.0.1)\n",
      "Requirement already satisfied: numpy in c:\\users\\ganes\\anaconda3\\lib\\site-packages (from torchvision) (1.24.4)\n",
      "Requirement already satisfied: typing-extensions>=4.8.0 in c:\\users\\ganes\\anaconda3\\lib\\site-packages (from torch==2.2.2->torchvision) (4.11.0)\n",
      "Requirement already satisfied: networkx in c:\\users\\ganes\\anaconda3\\lib\\site-packages (from torch==2.2.2->torchvision) (2.5)\n",
      "Requirement already satisfied: sympy in c:\\users\\ganes\\anaconda3\\lib\\site-packages (from torch==2.2.2->torchvision) (1.6.2)\n",
      "Requirement already satisfied: jinja2 in c:\\users\\ganes\\anaconda3\\lib\\site-packages (from torch==2.2.2->torchvision) (2.11.2)\n",
      "Requirement already satisfied: filelock in c:\\users\\ganes\\anaconda3\\lib\\site-packages (from torch==2.2.2->torchvision) (3.0.12)\n",
      "Requirement already satisfied: fsspec in c:\\users\\ganes\\anaconda3\\lib\\site-packages (from torch==2.2.2->torchvision) (0.8.3)\n",
      "Requirement already satisfied: decorator>=4.3.0 in c:\\users\\ganes\\anaconda3\\lib\\site-packages (from networkx->torch==2.2.2->torchvision) (4.4.2)\n",
      "Requirement already satisfied: mpmath>=0.19 in c:\\users\\ganes\\anaconda3\\lib\\site-packages (from sympy->torch==2.2.2->torchvision) (1.1.0)\n",
      "Requirement already satisfied: MarkupSafe>=0.23 in c:\\users\\ganes\\anaconda3\\lib\\site-packages (from jinja2->torch==2.2.2->torchvision) (1.1.1)\n"
     ]
    }
   ],
   "source": [
    "#torchvision used\n",
    "!pip install torchvision\n",
    "import torchvision\n",
    "from torchvision import transforms\n",
    "\n",
    "tasks=transforms.Compose([transforms.ToTensor(),transforms.Normalize((0.5,),(0.5,))])"
   ]
  },
  {
   "cell_type": "code",
   "execution_count": 3,
   "metadata": {},
   "outputs": [],
   "source": [
    "from torchvision.datasets import MNIST\n",
    "mnist=MNIST(\"data\",download=True,train=True,transform=tasks)"
   ]
  },
  {
   "cell_type": "code",
   "execution_count": 4,
   "metadata": {},
   "outputs": [
    {
     "name": "stdout",
     "output_type": "stream",
     "text": [
      "shape torch.Size([10, 784])\n"
     ]
    }
   ],
   "source": [
    "from torch.utils.data import DataLoader\n",
    "raw=DataLoader(mnist,batch_size=10)\n",
    "dataiter=iter(raw)\n",
    "data,labels=next(dataiter)\n",
    "data=data.view(data.shape[0],-1)\n",
    "print(\"shape\",data.shape)"
   ]
  },
  {
   "cell_type": "code",
   "execution_count": 5,
   "metadata": {},
   "outputs": [
    {
     "data": {
      "text/plain": [
       "tensor([-1.0000, -1.0000, -1.0000, -1.0000, -1.0000, -1.0000, -1.0000, -1.0000,\n",
       "        -1.0000, -1.0000, -1.0000, -1.0000, -1.0000, -1.0000, -1.0000, -1.0000,\n",
       "        -1.0000, -1.0000, -1.0000, -1.0000, -1.0000, -1.0000, -1.0000, -1.0000,\n",
       "        -1.0000, -1.0000, -1.0000, -1.0000, -1.0000, -1.0000, -1.0000, -1.0000,\n",
       "        -1.0000, -1.0000, -1.0000, -1.0000, -1.0000, -1.0000, -1.0000, -1.0000,\n",
       "        -1.0000, -1.0000, -1.0000, -1.0000, -1.0000, -1.0000, -1.0000, -1.0000,\n",
       "        -1.0000, -1.0000, -1.0000, -1.0000, -1.0000, -1.0000, -1.0000, -1.0000,\n",
       "        -1.0000, -1.0000, -1.0000, -1.0000, -1.0000, -1.0000, -1.0000, -1.0000,\n",
       "        -1.0000, -1.0000, -1.0000, -1.0000, -1.0000, -1.0000, -1.0000, -1.0000,\n",
       "        -1.0000, -1.0000, -1.0000, -1.0000, -1.0000, -1.0000, -1.0000, -1.0000,\n",
       "        -1.0000, -1.0000, -1.0000, -1.0000, -1.0000, -1.0000, -1.0000, -1.0000,\n",
       "        -1.0000, -1.0000, -1.0000, -1.0000, -1.0000, -1.0000, -1.0000, -1.0000,\n",
       "        -1.0000, -1.0000, -1.0000, -1.0000, -1.0000, -1.0000, -1.0000, -1.0000,\n",
       "        -1.0000, -1.0000, -1.0000, -1.0000, -1.0000, -1.0000, -1.0000, -1.0000,\n",
       "        -1.0000, -1.0000, -1.0000, -1.0000, -1.0000, -1.0000, -1.0000, -1.0000,\n",
       "        -1.0000, -1.0000, -1.0000, -1.0000, -1.0000, -1.0000, -1.0000, -1.0000,\n",
       "        -1.0000, -1.0000, -1.0000, -1.0000, -1.0000, -1.0000, -1.0000, -1.0000,\n",
       "        -1.0000, -1.0000, -1.0000, -1.0000, -1.0000, -1.0000, -1.0000, -1.0000,\n",
       "        -1.0000, -1.0000, -1.0000, -1.0000, -1.0000, -1.0000, -1.0000, -1.0000,\n",
       "        -0.9765, -0.8588, -0.8588, -0.8588, -0.0118,  0.0667,  0.3725, -0.7961,\n",
       "         0.3020,  1.0000,  0.9373, -0.0039, -1.0000, -1.0000, -1.0000, -1.0000,\n",
       "        -1.0000, -1.0000, -1.0000, -1.0000, -1.0000, -1.0000, -1.0000, -1.0000,\n",
       "        -0.7647, -0.7176, -0.2627,  0.2078,  0.3333,  0.9843,  0.9843,  0.9843,\n",
       "         0.9843,  0.9843,  0.7647,  0.3490,  0.9843,  0.8980,  0.5294, -0.4980,\n",
       "        -1.0000, -1.0000, -1.0000, -1.0000, -1.0000, -1.0000, -1.0000, -1.0000,\n",
       "        -1.0000, -1.0000, -1.0000, -0.6157,  0.8667,  0.9843,  0.9843,  0.9843,\n",
       "         0.9843,  0.9843,  0.9843,  0.9843,  0.9843,  0.9686, -0.2706, -0.3569,\n",
       "        -0.3569, -0.5608, -0.6941, -1.0000, -1.0000, -1.0000, -1.0000, -1.0000,\n",
       "        -1.0000, -1.0000, -1.0000, -1.0000, -1.0000, -1.0000, -1.0000, -0.8588,\n",
       "         0.7176,  0.9843,  0.9843,  0.9843,  0.9843,  0.9843,  0.5529,  0.4275,\n",
       "         0.9373,  0.8902, -1.0000, -1.0000, -1.0000, -1.0000, -1.0000, -1.0000,\n",
       "        -1.0000, -1.0000, -1.0000, -1.0000, -1.0000, -1.0000, -1.0000, -1.0000,\n",
       "        -1.0000, -1.0000, -1.0000, -1.0000, -0.3725,  0.2235, -0.1608,  0.9843,\n",
       "         0.9843,  0.6078, -0.9137, -1.0000, -0.6627,  0.2078, -1.0000, -1.0000,\n",
       "        -1.0000, -1.0000, -1.0000, -1.0000, -1.0000, -1.0000, -1.0000, -1.0000,\n",
       "        -1.0000, -1.0000, -1.0000, -1.0000, -1.0000, -1.0000, -1.0000, -1.0000,\n",
       "        -1.0000, -0.8902, -0.9922,  0.2078,  0.9843, -0.2941, -1.0000, -1.0000,\n",
       "        -1.0000, -1.0000, -1.0000, -1.0000, -1.0000, -1.0000, -1.0000, -1.0000,\n",
       "        -1.0000, -1.0000, -1.0000, -1.0000, -1.0000, -1.0000, -1.0000, -1.0000,\n",
       "        -1.0000, -1.0000, -1.0000, -1.0000, -1.0000, -1.0000, -1.0000,  0.0902,\n",
       "         0.9843,  0.4902, -0.9843, -1.0000, -1.0000, -1.0000, -1.0000, -1.0000,\n",
       "        -1.0000, -1.0000, -1.0000, -1.0000, -1.0000, -1.0000, -1.0000, -1.0000,\n",
       "        -1.0000, -1.0000, -1.0000, -1.0000, -1.0000, -1.0000, -1.0000, -1.0000,\n",
       "        -1.0000, -1.0000, -1.0000, -0.9137,  0.4902,  0.9843, -0.4510, -1.0000,\n",
       "        -1.0000, -1.0000, -1.0000, -1.0000, -1.0000, -1.0000, -1.0000, -1.0000,\n",
       "        -1.0000, -1.0000, -1.0000, -1.0000, -1.0000, -1.0000, -1.0000, -1.0000,\n",
       "        -1.0000, -1.0000, -1.0000, -1.0000, -1.0000, -1.0000, -1.0000, -1.0000,\n",
       "        -0.7255,  0.8902,  0.7647,  0.2549, -0.1529, -0.9922, -1.0000, -1.0000,\n",
       "        -1.0000, -1.0000, -1.0000, -1.0000, -1.0000, -1.0000, -1.0000, -1.0000,\n",
       "        -1.0000, -1.0000, -1.0000, -1.0000, -1.0000, -1.0000, -1.0000, -1.0000])"
      ]
     },
     "execution_count": 5,
     "metadata": {},
     "output_type": "execute_result"
    }
   ],
   "source": [
    "data[0][:400]"
   ]
  },
  {
   "cell_type": "code",
   "execution_count": 6,
   "metadata": {},
   "outputs": [
    {
     "data": {
      "image/png": "[encoded data removed]",
      "text/plain": [
       "<Figure size 540x288 with 10 Axes>"
      ]
     },
     "metadata": {
      "needs_background": "light"
     },
     "output_type": "display_data"
    }
   ],
   "source": [
    "import matplotlib.pyplot as plt\n",
    "\n",
    "num=10\n",
    "num_row=2\n",
    "num_col=5\n",
    "\n",
    "fig,axes=plt.subplots(num_row,num_col,figsize=(1.5*num_col,2*num_row))\n",
    "\n",
    "for i in range(num):\n",
    "    ax=axes[i//num_col,i%num_col]\n",
    "    pixels=data[i].numpy()\n",
    "    pizels=pixels.reshape((28,28))\n",
    "    ax.imshow(pizels,cmap='gray')\n",
    "plt.tight_layout()\n",
    "plt.show()\n",
    "\n",
    "\n",
    "\n"
   ]
  },
  {
   "cell_type": "code",
   "execution_count": 7,
   "metadata": {},
   "outputs": [],
   "source": [
    "#pytorch training\n",
    "\n",
    "from torch.utils.data import DataLoader\n",
    "from torch.utils.data.sampler import SubsetRandomSampler\n",
    "\n",
    "## create training and validation split \n",
    "split = int(0.8 * len(mnist))\n",
    "index_list = list(range(len(mnist)))\n",
    "train_idx, valid_idx = index_list[:split], index_list[split:]\n",
    "## create sampler objects using SubsetRandomSampler\n",
    "tr_sampler = SubsetRandomSampler(train_idx)\n",
    "val_sampler = SubsetRandomSampler(valid_idx)\n",
    "## create iterator objects for train and valid datasets\n",
    "trainloader = DataLoader(mnist, sampler=tr_sampler)\n",
    "validloader = DataLoader(mnist, sampler=val_sampler)\n"
   ]
  },
  {
   "cell_type": "code",
   "execution_count": 8,
   "metadata": {},
   "outputs": [],
   "source": [
    "from torch.utils.data import DataLoader\n",
    "from torch.utils.data.sampler import SubsetRandomSampler\n",
    "## create training and validation split \n",
    "split = int(0.8 * len(mnist))\n",
    "index_list = list(range(len(mnist)))\n",
    "train_idx, valid_idx = index_list[:split], index_list[split:]\n",
    "## create sampler objects using SubsetRandomSampler\n",
    "tr_sampler = SubsetRandomSampler(train_idx)\n",
    "val_sampler = SubsetRandomSampler(valid_idx)\n",
    "## create iterator objects for train and valid datasets\n",
    "trainloader = DataLoader(mnist, batch_size=32, sampler=tr_sampler)\n",
    "validloader = DataLoader(mnist, batch_size=32, sampler=val_sampler)"
   ]
  },
  {
   "cell_type": "code",
   "execution_count": 9,
   "metadata": {},
   "outputs": [],
   "source": [
    "import torch.nn.functional as F\n",
    "import torch.nn as nn\n",
    "\n",
    "class Model(nn.Module):\n",
    "    def __init__(self):\n",
    "        super().__init__()\n",
    "        self.hidden=nn.Linear(784,32)\n",
    "        self.output=nn.Linear(32,10)\n",
    "    \n",
    "    def forward(self,x):\n",
    "        x=self.hidden(x)\n",
    "        x=F.sigmoid(x)\n",
    "        x=self.output(x)\n",
    "        return x\n",
    "##Essentially there will be 10 outputs for 10 digits and we are sigmoiding the output to get\n",
    "##each letter probability when calling sigmoid here at the end\n",
    "model=Model()"
   ]
  },
  {
   "cell_type": "code",
   "execution_count": 10,
   "metadata": {},
   "outputs": [],
   "source": [
    "from torch import optim\n",
    "import numpy as np\n",
    "\n",
    "loss_function=nn.CrossEntropyLoss()\n",
    "optimizer=optim.SGD(model.parameters(),lr=0.01,weight_decay=1e-6,momentum=0.9,nesterov=True)"
   ]
  },
  {
   "cell_type": "code",
   "execution_count": 11,
   "metadata": {},
   "outputs": [
    {
     "name": "stdout",
     "output_type": "stream",
     "text": [
      "Epoch:  1 Training Loss:  0.598781957556804 Valid Loss:  5.722141811370849\n",
      "Epoch:  2 Training Loss:  0.2899425372282664 Valid Loss:  6.239007006327311\n",
      "Epoch:  3 Training Loss:  0.2409774563573301 Valid Loss:  7.173585951487223\n",
      "Epoch:  4 Training Loss:  0.21181010472774506 Valid Loss:  7.224238731384277\n",
      "Epoch:  5 Training Loss:  0.19144626914709806 Valid Loss:  7.482048603057861\n",
      "Epoch:  6 Training Loss:  0.17527071384092172 Valid Loss:  7.603489735921224\n",
      "Epoch:  7 Training Loss:  0.1628170476804177 Valid Loss:  7.734685241699219\n",
      "Epoch:  8 Training Loss:  0.15294221393764018 Valid Loss:  8.083302008310953\n",
      "Epoch:  9 Training Loss:  0.14515787963755428 Valid Loss:  8.04821766535441\n",
      "Epoch:  10 Training Loss:  0.1368687976008902 Valid Loss:  8.31666902033488\n"
     ]
    }
   ],
   "source": [
    "count=0\n",
    "for epoch in range(1,11):\n",
    "    train_loss,valid_loss=[],[]\n",
    "    model.train()\n",
    "    for data,target in trainloader:\n",
    "        optimizer.zero_grad()\n",
    "        data=data.view(data.shape[0],-1)\n",
    "       #print(data.shape)\n",
    "        output=model(data)\n",
    "        loss=loss_function(output,target)\n",
    "        loss.backward()\n",
    "        optimizer.step()\n",
    "        train_loss.append(loss.item())\n",
    "        \n",
    "    model.eval()\n",
    "    for data,targer in validloader:\n",
    "        count+=1\n",
    "        data=data.view(data.shape[0],-1)\n",
    "        output=model(data)\n",
    "        loss=loss_function(output,target)\n",
    "        valid_loss.append(loss.item())\n",
    "    print(\"Epoch: \",epoch,\"Training Loss: \",np.mean(train_loss),\"Valid Loss: \",np.mean(valid_loss))\n",
    "    "
   ]
  },
  {
   "cell_type": "code",
   "execution_count": 12,
   "metadata": {},
   "outputs": [],
   "source": [
    "import torch\n",
    "dataiter=iter(validloader)\n",
    "data,labels= next(dataiter)\n",
    "data=data.view(data.shape[0],-1)\n",
    "output=model(data)\n",
    "\n",
    "_,preds_tensor=torch.max(output,1)\n",
    "pytorchPred=np.squeeze(preds_tensor.numpy())"
   ]
  },
  {
   "cell_type": "code",
   "execution_count": 16,
   "metadata": {},
   "outputs": [],
   "source": [
    "##pytorch to ONNX\n",
    "\n",
    "x=torch.randn(1,1,32,784,requires_grad=True)\n",
    "torch.onnx.export(model,x,\"torchtoONNX.onnx\",verbose=True,\n",
    "input_names=['input'],output_names=['output'])"
   ]
  },
  {
   "cell_type": "code",
   "execution_count": 15,
   "metadata": {},
   "outputs": [
    {
     "name": "stdout",
     "output_type": "stream",
     "text": [
      "C:\\Users\\ganes\\Desktop\\DL\\Colab\n"
     ]
    }
   ],
   "source": [
    "cd C:\\Users\\ganes\\Desktop\\DL\\Colab"
   ]
  },
  {
   "cell_type": "code",
   "execution_count": 17,
   "metadata": {},
   "outputs": [
    {
     "name": "stdout",
     "output_type": "stream",
     "text": [
      " Volume in drive C is OS\n",
      " Volume Serial Number is 505D-495E\n",
      "\n",
      " Directory of C:\\Users\\ganes\\Desktop\\DL\\Colab\n",
      "\n",
      "06-04-2024  04:59 AM    <DIR>          .\n",
      "30-03-2024  07:05 PM    <DIR>          ..\n",
      "06-04-2024  04:59 AM    <DIR>          data\n",
      "06-04-2024  03:49 AM           257,468 Knowledge_distillation - Colaboratory.pdf\n",
      "30-03-2024  07:06 PM            13,617 Knowledge_distillation.ipynb\n",
      "06-04-2024  05:15 AM           120,783 torchtoONNX.onnx\n",
      "               3 File(s)        391,868 bytes\n",
      "               3 Dir(s)  87,929,745,408 bytes free\n"
     ]
    }
   ],
   "source": [
    "ls"
   ]
  },
  {
   "cell_type": "code",
   "execution_count": 20,
   "metadata": {},
   "outputs": [],
   "source": [
    "import onnxruntime as rt\n",
    "import numpy\n",
    "\n",
    "sess=rt.InferenceSession(\"torchtoONNX.onnx\")\n",
    "input_name=sess.get_inputs()[0].name\n",
    "#torch.onnx.export()\n",
    "onnxPreds=sess.run(None,{input_name:\n",
    "                        data.numpy().reshape(1,1,32,784)})[0]"
   ]
  },
  {
   "cell_type": "code",
   "execution_count": 21,
   "metadata": {},
   "outputs": [
    {
     "ename": "ModuleNotFoundError",
     "evalue": "No module named 'onnx2keras'",
     "output_type": "error",
     "traceback": [
      "\u001b[1;31m---------------------------------------------------------------------------\u001b[0m",
      "\u001b[1;31mModuleNotFoundError\u001b[0m                       Traceback (most recent call last)",
      "\u001b[1;32m<ipython-input-21-c02490ca4b1c>\u001b[0m in \u001b[0;36m<module>\u001b[1;34m\u001b[0m\n\u001b[0;32m      1\u001b[0m \u001b[1;32mimport\u001b[0m \u001b[0monnx\u001b[0m\u001b[1;33m\u001b[0m\u001b[1;33m\u001b[0m\u001b[0m\n\u001b[0;32m      2\u001b[0m \u001b[1;33m\u001b[0m\u001b[0m\n\u001b[1;32m----> 3\u001b[1;33m \u001b[1;32mimport\u001b[0m \u001b[0monnx2keras\u001b[0m\u001b[1;33m\u001b[0m\u001b[1;33m\u001b[0m\u001b[0m\n\u001b[0m\u001b[0;32m      4\u001b[0m \u001b[0monnx_model\u001b[0m\u001b[1;33m=\u001b[0m\u001b[0monnx\u001b[0m\u001b[1;33m.\u001b[0m\u001b[0mload\u001b[0m\u001b[1;33m(\u001b[0m\u001b[1;34m\"torchtoONNX.onnx\"\u001b[0m\u001b[1;33m)\u001b[0m\u001b[1;33m\u001b[0m\u001b[1;33m\u001b[0m\u001b[0m\n\u001b[0;32m      5\u001b[0m \u001b[0mk_model\u001b[0m\u001b[1;33m=\u001b[0m\u001b[0monnx2keras\u001b[0m\u001b[1;33m.\u001b[0m\u001b[0monnx_to_keras\u001b[0m\u001b[1;33m(\u001b[0m\u001b[0monnx_model\u001b[0m\u001b[1;33m,\u001b[0m\u001b[1;33m[\u001b[0m\u001b[1;34m'input'\u001b[0m\u001b[1;33m]\u001b[0m\u001b[1;33m)\u001b[0m\u001b[1;33m\u001b[0m\u001b[1;33m\u001b[0m\u001b[0m\n",
      "\u001b[1;31mModuleNotFoundError\u001b[0m: No module named 'onnx2keras'"
     ]
    }
   ],
   "source": [
    "import onnx\n",
    "\n",
    "import onnx2keras\n",
    "onnx_model=onnx.load(\"torchtoONNX.onnx\")\n",
    "k_model=onnx2keras.onnx_to_keras(onnx_model,['input'])"
   ]
  },
  {
   "cell_type": "code",
   "execution_count": 93,
   "metadata": {},
   "outputs": [
    {
     "name": "stdout",
     "output_type": "stream",
     "text": [
      "Collecting onnx2keras\n",
      "  Using cached onnx2keras-0.0.24.tar.gz (20 kB)\n",
      "Collecting tensorflow\n",
      "  Using cached tensorflow-2.13.1-cp38-cp38-win_amd64.whl (1.9 kB)\n",
      "Requirement already satisfied, skipping upgrade: numpy in c:\\users\\ganes\\anaconda3\\lib\\site-packages (from onnx2keras) (1.24.4)\n",
      "Requirement already satisfied, skipping upgrade: onnx in c:\\users\\ganes\\anaconda3\\lib\\site-packages (from onnx2keras) (1.16.0)\n"
     ]
    },
    {
     "name": "stderr",
     "output_type": "stream",
     "text": [
      "ERROR: Could not find a version that satisfies the requirement tensorflow-intel==2.13.1; platform_system == \"Windows\" (from tensorflow->onnx2keras) (from versions: 0.0.1, 2.10.0.dev20220728, 2.10.0rc0, 2.10.0rc1, 2.10.0rc2, 2.10.0rc3, 2.10.0, 2.10.1, 2.11.0rc0, 2.11.0rc1, 2.11.0rc2, 2.11.0, 2.11.1, 2.12.0rc0, 2.12.0rc1, 2.12.0, 2.12.1, 2.13.0rc0, 2.13.0rc1, 2.13.0rc2, 2.13.0)\n",
      "ERROR: No matching distribution found for tensorflow-intel==2.13.1; platform_system == \"Windows\" (from tensorflow->onnx2keras)\n"
     ]
    }
   ],
   "source": [
    "!pip install --upgrade onnx2keras"
   ]
  },
  {
   "cell_type": "code",
   "execution_count": 95,
   "metadata": {},
   "outputs": [
    {
     "ename": "SyntaxError",
     "evalue": "invalid syntax (<ipython-input-95-3105c1bc4374>, line 1)",
     "output_type": "error",
     "traceback": [
      "\u001b[1;36m  File \u001b[1;32m\"<ipython-input-95-3105c1bc4374>\"\u001b[1;36m, line \u001b[1;32m1\u001b[0m\n\u001b[1;33m    which tensorflow\u001b[0m\n\u001b[1;37m          ^\u001b[0m\n\u001b[1;31mSyntaxError\u001b[0m\u001b[1;31m:\u001b[0m invalid syntax\n"
     ]
    }
   ],
   "source": []
  },
  {
   "cell_type": "code",
   "execution_count": null,
   "metadata": {},
   "outputs": [],
   "source": []
  }
 ],
 "metadata": {
  "kernelspec": {
   "display_name": "Python 3",
   "language": "python",
   "name": "python3"
  },
  "language_info": {
   "codemirror_mode": {
    "name": "ipython",
    "version": 3
   },
   "file_extension": ".py",
   "mimetype": "text/x-python",
   "name": "python",
   "nbconvert_exporter": "python",
   "pygments_lexer": "ipython3",
   "version": "3.8.5"
  }
 },
 "nbformat": 4,
 "nbformat_minor": 4
}
